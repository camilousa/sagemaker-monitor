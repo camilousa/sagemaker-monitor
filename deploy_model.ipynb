{
 "cells": [
  {
   "cell_type": "code",
   "execution_count": 1,
   "id": "3811bd41-ba91-4497-a0c8-20dc65e4e8a1",
   "metadata": {},
   "outputs": [
    {
     "name": "stdout",
     "output_type": "stream",
     "text": [
      "sagemaker.config INFO - Not applying SDK defaults from location: /etc/xdg/sagemaker/config.yaml\n",
      "sagemaker.config INFO - Not applying SDK defaults from location: /home/sagemaker-user/.config/sagemaker/config.yaml\n"
     ]
    }
   ],
   "source": [
    "import joblib\n",
    "import sagemaker\n",
    "import sagemaker\n",
    "import joblib\n",
    "import sklearn\n",
    "from sagemaker.sklearn.model import SKLearnModel\n",
    "from sagemaker.serializers import CSVSerializer\n",
    "from sagemaker.deserializers import CSVDeserializer, JSONDeserializer\n",
    "from sagemaker.model_monitor import DataCaptureConfig\n"
   ]
  },
  {
   "cell_type": "code",
   "execution_count": null,
   "id": "db0ecde8-8bc2-43d2-aa2e-b061ec5aac2c",
   "metadata": {},
   "outputs": [],
   "source": []
  },
  {
   "cell_type": "code",
   "execution_count": 2,
   "id": "3840a6e5-f469-4378-b705-1f2d8ca118e4",
   "metadata": {},
   "outputs": [
    {
     "name": "stdout",
     "output_type": "stream",
     "text": [
      "Found existing installation: scikit-learn 1.3.2\n",
      "Uninstalling scikit-learn-1.3.2:\n",
      "  Successfully uninstalled scikit-learn-1.3.2\n",
      "Collecting scikit-learn==1.2.1\n",
      "  Using cached scikit_learn-1.2.1-cp310-cp310-manylinux_2_17_x86_64.manylinux2014_x86_64.whl.metadata (11 kB)\n",
      "Requirement already satisfied: numpy>=1.17.3 in /opt/conda/lib/python3.10/site-packages (from scikit-learn==1.2.1) (1.26.3)\n",
      "Requirement already satisfied: scipy>=1.3.2 in /opt/conda/lib/python3.10/site-packages (from scikit-learn==1.2.1) (1.11.4)\n",
      "Requirement already satisfied: joblib>=1.1.1 in /opt/conda/lib/python3.10/site-packages (from scikit-learn==1.2.1) (1.3.2)\n",
      "Requirement already satisfied: threadpoolctl>=2.0.0 in /opt/conda/lib/python3.10/site-packages (from scikit-learn==1.2.1) (3.2.0)\n",
      "Using cached scikit_learn-1.2.1-cp310-cp310-manylinux_2_17_x86_64.manylinux2014_x86_64.whl (9.6 MB)\n",
      "Installing collected packages: scikit-learn\n",
      "\u001b[31mERROR: pip's dependency resolver does not currently take into account all the packages that are installed. This behaviour is the source of the following dependency conflicts.\n",
      "autogluon-core 0.8.2 requires scikit-learn<1.5,>=1.3.0, but you have scikit-learn 1.2.1 which is incompatible.\n",
      "autogluon-features 0.8.2 requires scikit-learn<1.5,>=1.3.0, but you have scikit-learn 1.2.1 which is incompatible.\n",
      "autogluon-multimodal 0.8.2 requires scikit-learn<1.5,>=1.3.0, but you have scikit-learn 1.2.1 which is incompatible.\n",
      "autogluon-tabular 0.8.2 requires scikit-learn<1.5,>=1.3.0, but you have scikit-learn 1.2.1 which is incompatible.\u001b[0m\u001b[31m\n",
      "\u001b[0mSuccessfully installed scikit-learn-1.2.1\n"
     ]
    }
   ],
   "source": [
    "!pip uninstall scikit-learn -y\n",
    "!pip install scikit-learn=='1.2.1'"
   ]
  },
  {
   "cell_type": "code",
   "execution_count": 3,
   "id": "e48080cb-578e-43ec-ac71-95bce2a39e7f",
   "metadata": {},
   "outputs": [
    {
     "name": "stdout",
     "output_type": "stream",
     "text": [
      "sagemaker.config INFO - Not applying SDK defaults from location: /etc/xdg/sagemaker/config.yaml\n",
      "sagemaker.config INFO - Not applying SDK defaults from location: /home/sagemaker-user/.config/sagemaker/config.yaml\n"
     ]
    }
   ],
   "source": [
    "session = sagemaker.Session()\n",
    "bucket = session.default_bucket()"
   ]
  },
  {
   "cell_type": "code",
   "execution_count": 33,
   "id": "d1c5b18f-f855-48a4-8812-8a68230996a4",
   "metadata": {},
   "outputs": [
    {
     "name": "stdout",
     "output_type": "stream",
     "text": [
      "Overwriting entrypoint.py\n"
     ]
    }
   ],
   "source": [
    "%%writefile entrypoint.py\n",
    "import joblib\n",
    "import os\n",
    "import json\n",
    "from sagemaker_containers.beta.framework import (content_types, encoders, env, modules, transformer, worker)\n",
    "\n",
    "def model_fn(model_dir):\n",
    "    clf = joblib.load(os.path.join(model_dir, \"model.jobli\"))\n",
    "    return clf\n",
    "\n",
    "def predict_fn(input_data, model):\n",
    "     if len(input_data.shape) == 1:\n",
    "      proba = model.predict_proba(input_data.reshape(-1, 1).T)\n",
    "     else:\n",
    "      proba = model.predict_proba(input_data)   \n",
    "     return [proba[0][1]]\n",
    "\n",
    "\n",
    "def output_fn(prediction, accept):\n",
    "\n",
    "    if accept == \"application/json\":\n",
    "        return worker.Response(json.dumps(prediction[0]), mimetype=accept)\n",
    "    elif accept == 'text/csv':\n",
    "        #return worker.Response(encoders.encode(prediction[0], accept), mimetype=accept)\n",
    "        return worker.Response(json.dumps(prediction[0]), mimetype=accept)\n"
   ]
  },
  {
   "cell_type": "code",
   "execution_count": null,
   "id": "b7e09b94-fdb5-4a6c-908e-067dd50234bc",
   "metadata": {},
   "outputs": [],
   "source": []
  },
  {
   "cell_type": "code",
   "execution_count": 6,
   "id": "a0161be5-b0ce-4fc8-b82f-1765c3196c28",
   "metadata": {},
   "outputs": [
    {
     "name": "stdout",
     "output_type": "stream",
     "text": [
      "Traceback (most recent call last):\n",
      "  File \"<string>\", line 1, in <module>\n",
      "  File \"/home/sagemaker-user/monitoreo/entrypoint.py\", line 4, in <module>\n",
      "    from sagemaker_containers.beta.framework import (content_types, encoders, env, modules, transformer, worker)\n",
      "ModuleNotFoundError: No module named 'sagemaker_containers'\n"
     ]
    }
   ],
   "source": [
    "!python -c \"from entrypoint import *; import numpy as np; model = model_fn(''); print(predict_fn(np.array([[17,11,0,240,241,0,1,123,1,0.2,1,0,3]]), model))\""
   ]
  },
  {
   "cell_type": "code",
   "execution_count": 34,
   "id": "e8435fca-2f72-48c5-8d3c-80f877354195",
   "metadata": {},
   "outputs": [
    {
     "name": "stdout",
     "output_type": "stream",
     "text": [
      "sagemaker.config INFO - Not applying SDK defaults from location: /etc/xdg/sagemaker/config.yaml\n",
      "sagemaker.config INFO - Not applying SDK defaults from location: /home/sagemaker-user/.config/sagemaker/config.yaml\n"
     ]
    }
   ],
   "source": [
    "model_uri = 's3://sagemaker-us-east-1-381492271173/custom_model/heart/model.tar.gz'\n",
    "sklearn_model = SKLearnModel(model_data=model_uri,\n",
    "                             role=\"LabRole\",\n",
    "                             entry_point=\"entrypoint.py\",\n",
    "                             framework_version=\"1.2-1\")"
   ]
  },
  {
   "cell_type": "code",
   "execution_count": 8,
   "id": "0325ae92-602d-439f-a54b-05a751343eff",
   "metadata": {},
   "outputs": [],
   "source": [
    "%store -r path"
   ]
  },
  {
   "cell_type": "code",
   "execution_count": 9,
   "id": "922b139e-bd5c-48e1-92db-c4b284cfb5c3",
   "metadata": {},
   "outputs": [],
   "source": [
    "data_capture_uri = f\"s3://{bucket}/{path}/data-capture\""
   ]
  },
  {
   "cell_type": "code",
   "execution_count": 10,
   "id": "e2ab5d1f-1e03-4b81-9ae1-a480b3dca628",
   "metadata": {},
   "outputs": [
    {
     "data": {
      "text/plain": [
       "'s3://sagemaker-us-east-1-381492271173/monitor/heart/data-capture'"
      ]
     },
     "execution_count": 10,
     "metadata": {},
     "output_type": "execute_result"
    }
   ],
   "source": [
    "data_capture_uri"
   ]
  },
  {
   "cell_type": "code",
   "execution_count": 35,
   "id": "312f1e20-0ee7-4e06-b99b-65528ec11c25",
   "metadata": {},
   "outputs": [
    {
     "name": "stdout",
     "output_type": "stream",
     "text": [
      "sagemaker.config INFO - Not applying SDK defaults from location: /etc/xdg/sagemaker/config.yaml\n",
      "sagemaker.config INFO - Not applying SDK defaults from location: /home/sagemaker-user/.config/sagemaker/config.yaml\n"
     ]
    }
   ],
   "source": [
    "data_capture_config = DataCaptureConfig(enable_capture=True,\n",
    "                                        sampling_percentage=100,\n",
    "                                        destination_s3_uri=data_capture_uri,\n",
    "                                        csv_content_types=[\"text/csv\"]\n",
    "                                    )\n",
    "                                        "
   ]
  },
  {
   "cell_type": "code",
   "execution_count": 36,
   "id": "66e53956-fc37-440f-9bd6-aee426937dcf",
   "metadata": {},
   "outputs": [
    {
     "name": "stdout",
     "output_type": "stream",
     "text": [
      "sagemaker.config INFO - Not applying SDK defaults from location: /etc/xdg/sagemaker/config.yaml\n",
      "sagemaker.config INFO - Not applying SDK defaults from location: /home/sagemaker-user/.config/sagemaker/config.yaml\n",
      "-----!"
     ]
    }
   ],
   "source": [
    "predictor = sklearn_model.deploy(initial_instance_count=1,\n",
    "                                 instance_type='ml.m5.xlarge',\n",
    "                                 serielizer=CSVSerializer(),\n",
    "                                 deserializer=CSVDeserializer(),\n",
    "                                 data_capture_config=data_capture_config)"
   ]
  },
  {
   "cell_type": "code",
   "execution_count": 32,
   "id": "7dd159e3-1552-415c-b7e3-b7fb7246f470",
   "metadata": {},
   "outputs": [],
   "source": [
    "#predictor.delete_endpoint()"
   ]
  },
  {
   "cell_type": "code",
   "execution_count": 40,
   "id": "f0300d13-7504-46b1-b53f-16743217aa18",
   "metadata": {},
   "outputs": [],
   "source": [
    "endpoint_name = predictor.endpoint_name"
   ]
  },
  {
   "cell_type": "code",
   "execution_count": 38,
   "id": "17ac636c-8a6e-48f1-95cf-dbf170ebd61d",
   "metadata": {},
   "outputs": [
    {
     "name": "stdout",
     "output_type": "stream",
     "text": [
      "Stored 'endpoint_name' (str)\n"
     ]
    }
   ],
   "source": [
    "%store endpoint_name"
   ]
  },
  {
   "cell_type": "code",
   "execution_count": 41,
   "id": "e4aa82d9-a8dc-4bb4-8949-79cd59fb2137",
   "metadata": {},
   "outputs": [
    {
     "data": {
      "text/plain": [
       "'sagemaker-scikit-learn-2024-03-21-00-03-05-484'"
      ]
     },
     "execution_count": 41,
     "metadata": {},
     "output_type": "execute_result"
    }
   ],
   "source": [
    "endpoint_name"
   ]
  }
 ],
 "metadata": {
  "kernelspec": {
   "display_name": "Python 3 (ipykernel)",
   "language": "python",
   "name": "python3"
  },
  "language_info": {
   "codemirror_mode": {
    "name": "ipython",
    "version": 3
   },
   "file_extension": ".py",
   "mimetype": "text/x-python",
   "name": "python",
   "nbconvert_exporter": "python",
   "pygments_lexer": "ipython3",
   "version": "3.10.13"
  }
 },
 "nbformat": 4,
 "nbformat_minor": 5
}
