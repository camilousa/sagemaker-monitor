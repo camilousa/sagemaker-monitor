{
 "cells": [
  {
   "cell_type": "code",
   "execution_count": 29,
   "id": "9e6994a1-e870-4571-9ffb-fb670e64a6e2",
   "metadata": {},
   "outputs": [
    {
     "name": "stdout",
     "output_type": "stream",
     "text": [
      "sagemaker.config INFO - Not applying SDK defaults from location: /etc/xdg/sagemaker/config.yaml\n",
      "sagemaker.config INFO - Not applying SDK defaults from location: /home/sagemaker-user/.config/sagemaker/config.yaml\n"
     ]
    }
   ],
   "source": [
    "import joblib\n",
    "import sagemaker\n",
    "import pandas as pd\n",
    "from sklearn.metrics import accuracy_score"
   ]
  },
  {
   "cell_type": "code",
   "execution_count": 31,
   "id": "1c770cb0-25fa-43eb-be49-7b79d3bac36c",
   "metadata": {},
   "outputs": [
    {
     "name": "stdout",
     "output_type": "stream",
     "text": [
      "sagemaker.config INFO - Not applying SDK defaults from location: /etc/xdg/sagemaker/config.yaml\n",
      "sagemaker.config INFO - Not applying SDK defaults from location: /home/sagemaker-user/.config/sagemaker/config.yaml\n"
     ]
    }
   ],
   "source": [
    "session = sagemaker.Session()\n",
    "bucket = session.default_bucket()\n",
    "path = \"monitor/heart\""
   ]
  },
  {
   "cell_type": "code",
   "execution_count": 6,
   "id": "9b4c06f6-c386-426d-9910-801165768e7d",
   "metadata": {},
   "outputs": [
    {
     "name": "stdout",
     "output_type": "stream",
     "text": [
      "Found existing installation: scikit-learn 1.2.1\n",
      "Uninstalling scikit-learn-1.2.1:\n",
      "  Successfully uninstalled scikit-learn-1.2.1\n",
      "Collecting scikit-learn==1.2.1\n",
      "  Using cached scikit_learn-1.2.1-cp310-cp310-manylinux_2_17_x86_64.manylinux2014_x86_64.whl.metadata (11 kB)\n",
      "Requirement already satisfied: numpy>=1.17.3 in /opt/conda/lib/python3.10/site-packages (from scikit-learn==1.2.1) (1.26.3)\n",
      "Requirement already satisfied: scipy>=1.3.2 in /opt/conda/lib/python3.10/site-packages (from scikit-learn==1.2.1) (1.11.4)\n",
      "Requirement already satisfied: joblib>=1.1.1 in /opt/conda/lib/python3.10/site-packages (from scikit-learn==1.2.1) (1.3.2)\n",
      "Requirement already satisfied: threadpoolctl>=2.0.0 in /opt/conda/lib/python3.10/site-packages (from scikit-learn==1.2.1) (3.2.0)\n",
      "Using cached scikit_learn-1.2.1-cp310-cp310-manylinux_2_17_x86_64.manylinux2014_x86_64.whl (9.6 MB)\n",
      "Installing collected packages: scikit-learn\n",
      "\u001b[31mERROR: pip's dependency resolver does not currently take into account all the packages that are installed. This behaviour is the source of the following dependency conflicts.\n",
      "autogluon-core 0.8.2 requires scikit-learn<1.5,>=1.3.0, but you have scikit-learn 1.2.1 which is incompatible.\n",
      "autogluon-features 0.8.2 requires scikit-learn<1.5,>=1.3.0, but you have scikit-learn 1.2.1 which is incompatible.\n",
      "autogluon-multimodal 0.8.2 requires scikit-learn<1.5,>=1.3.0, but you have scikit-learn 1.2.1 which is incompatible.\n",
      "autogluon-tabular 0.8.2 requires scikit-learn<1.5,>=1.3.0, but you have scikit-learn 1.2.1 which is incompatible.\u001b[0m\u001b[31m\n",
      "\u001b[0mSuccessfully installed scikit-learn-1.2.1\n"
     ]
    }
   ],
   "source": [
    "!pip uninstall scikit-learn -y\n",
    "!pip install scikit-learn=='1.2.1'"
   ]
  },
  {
   "cell_type": "code",
   "execution_count": 15,
   "id": "377c2a77-0d1f-4e87-8658-dc310cbde31a",
   "metadata": {},
   "outputs": [],
   "source": [
    "model = joblib.load('model.joblib')"
   ]
  },
  {
   "cell_type": "code",
   "execution_count": 16,
   "id": "6fbb03a8-6780-4d8b-a763-a4508be72c08",
   "metadata": {},
   "outputs": [],
   "source": [
    "df = pd.read_csv(\"test.csv\", header=None)"
   ]
  },
  {
   "cell_type": "code",
   "execution_count": 17,
   "id": "0f3b6925-6a04-4f77-9f0c-ff5924ae6317",
   "metadata": {},
   "outputs": [],
   "source": [
    "y_test = df.iloc[:, 0]\n",
    "X_test = df.iloc[:, 1:]"
   ]
  },
  {
   "cell_type": "code",
   "execution_count": 18,
   "id": "f8b0f2f6-8767-4800-85be-5bc2224bc0a1",
   "metadata": {},
   "outputs": [
    {
     "name": "stderr",
     "output_type": "stream",
     "text": [
      "/opt/conda/lib/python3.10/site-packages/sklearn/base.py:420: UserWarning: X does not have valid feature names, but KNeighborsClassifier was fitted with feature names\n",
      "  warnings.warn(\n"
     ]
    },
    {
     "data": {
      "text/plain": [
       "78.02197802197803"
      ]
     },
     "execution_count": 18,
     "metadata": {},
     "output_type": "execute_result"
    }
   ],
   "source": [
    "accuracy_score(y_test, model.predict(X_test)) * 100"
   ]
  },
  {
   "cell_type": "code",
   "execution_count": 23,
   "id": "19228ef5-e64c-4156-9aeb-c7f9c665fca7",
   "metadata": {},
   "outputs": [
    {
     "name": "stderr",
     "output_type": "stream",
     "text": [
      "/opt/conda/lib/python3.10/site-packages/sklearn/base.py:420: UserWarning: X does not have valid feature names, but KNeighborsClassifier was fitted with feature names\n",
      "  warnings.warn(\n",
      "/opt/conda/lib/python3.10/site-packages/sklearn/base.py:420: UserWarning: X does not have valid feature names, but KNeighborsClassifier was fitted with feature names\n",
      "  warnings.warn(\n"
     ]
    }
   ],
   "source": [
    "probabs = model.predict_proba(X_test)[:, 1]\n",
    "predictions = model.predict(X_test)"
   ]
  },
  {
   "cell_type": "code",
   "execution_count": 24,
   "id": "ee28ae3a-9173-4046-8bbd-4ecb8b3af905",
   "metadata": {},
   "outputs": [],
   "source": [
    "results = pd.DataFrame()\n",
    "results[\"probability\"] = probabs\n",
    "results[\"prediction\"] = predictions\n",
    "results[\"label\"] = y_test"
   ]
  },
  {
   "cell_type": "code",
   "execution_count": 27,
   "id": "46b8f890-5609-40da-a762-553208f18484",
   "metadata": {},
   "outputs": [],
   "source": [
    "results.to_csv(\"validation_with_predictions.csv\", index=None)\n"
   ]
  },
  {
   "cell_type": "code",
   "execution_count": 32,
   "id": "13ddc549-1d40-4c86-9c9f-257022ffd94f",
   "metadata": {},
   "outputs": [
    {
     "data": {
      "text/plain": [
       "'monitor/heart/baseline/dataset'"
      ]
     },
     "execution_count": 32,
     "metadata": {},
     "output_type": "execute_result"
    }
   ],
   "source": [
    "f\"{path}/baseline/dataset\""
   ]
  },
  {
   "cell_type": "code",
   "execution_count": 35,
   "id": "9dfb797a-81b5-4f0f-8676-3e86a8000c49",
   "metadata": {},
   "outputs": [],
   "source": [
    "baseline_dataset_uri = session.upload_data(\"validation_with_predictions.csv\",bucket,\n",
    "                                           f\"{path}/baseline/dataset\",\n",
    "                                           )"
   ]
  },
  {
   "cell_type": "code",
   "execution_count": 36,
   "id": "48ae0040-6035-41c1-bcea-24045300d92b",
   "metadata": {},
   "outputs": [
    {
     "data": {
      "text/plain": [
       "'s3://sagemaker-us-east-1-381492271173/monitor/heart/baseline/dataset/validation_with_predictions.csv'"
      ]
     },
     "execution_count": 36,
     "metadata": {},
     "output_type": "execute_result"
    }
   ],
   "source": [
    "baseline_dataset_uri"
   ]
  },
  {
   "cell_type": "code",
   "execution_count": 37,
   "id": "cf44a8e0-511c-477f-8e9c-a4a3f7f844d3",
   "metadata": {},
   "outputs": [
    {
     "name": "stdout",
     "output_type": "stream",
     "text": [
      "Stored 'baseline_dataset_uri' (str)\n"
     ]
    }
   ],
   "source": [
    "%store baseline_dataset_uri"
   ]
  },
  {
   "cell_type": "code",
   "execution_count": 38,
   "id": "af550ffa-0f29-4f7a-9a0d-43a75693ddaa",
   "metadata": {},
   "outputs": [
    {
     "name": "stdout",
     "output_type": "stream",
     "text": [
      "Stored 'path' (str)\n"
     ]
    }
   ],
   "source": [
    "%store path"
   ]
  },
  {
   "cell_type": "code",
   "execution_count": null,
   "id": "a7df0e49-636b-4161-a574-1114abdc073a",
   "metadata": {},
   "outputs": [],
   "source": []
  }
 ],
 "metadata": {
  "kernelspec": {
   "display_name": "Python 3 (ipykernel)",
   "language": "python",
   "name": "python3"
  },
  "language_info": {
   "codemirror_mode": {
    "name": "ipython",
    "version": 3
   },
   "file_extension": ".py",
   "mimetype": "text/x-python",
   "name": "python",
   "nbconvert_exporter": "python",
   "pygments_lexer": "ipython3",
   "version": "3.10.13"
  }
 },
 "nbformat": 4,
 "nbformat_minor": 5
}
